{
 "cells": [
  {
   "cell_type": "code",
   "execution_count": 92,
   "metadata": {},
   "outputs": [
    {
     "name": "stdout",
     "output_type": "stream",
     "text": [
      "Download complete\n"
     ]
    }
   ],
   "source": [
    "# Making necessary imports\n",
    "import requests\n",
    "import os\n",
    "import pandas as pd\n",
    "\n",
    "# Declaring a dictioray with links to confirmed, recovered and deaths datasets\n",
    "urls = {\n",
    "    'confirmed' : \"https://data.humdata.org/hxlproxy/api/data-preview.csv?url=https%3A%2F%2Fraw.githubusercontent.com%2FCSSEGISandData%2FCOVID-19%2Fmaster%2Fcsse_covid_19_data%2Fcsse_covid_19_time_series%2Ftime_series_covid19_confirmed_global.csv&filename=time_series_covid19_confirmed_global.csv'\",\n",
    "    'recovery' : \"https://data.humdata.org/hxlproxy/api/data-preview.csv?url=https%3A%2F%2Fraw.githubusercontent.com%2FCSSEGISandData%2FCOVID-19%2Fmaster%2Fcsse_covid_19_data%2Fcsse_covid_19_time_series%2Ftime_series_covid19_recovered_global.csv&filename=time_series_covid19_recovered_global.csv\",\n",
    "    'death' : \"https://data.humdata.org/hxlproxy/api/data-preview.csv?url=https%3A%2F%2Fraw.githubusercontent.com%2FCSSEGISandData%2FCOVID-19%2Fmaster%2Fcsse_covid_19_data%2Fcsse_covid_19_time_series%2Ftime_series_covid19_deaths_global.csv&filename=time_series_covid19_deaths_global.csv\",\n",
    "    'testing' : \"https://covid.ourworldindata.org/data/owid-covid-data.xlsx\"\n",
    "}\n",
    "\n",
    "# Making a function that can download and save the dataset\n",
    "save_link = \"C:\\\\Users\\\\usama\\\\OneDrive\\\\Desktop\\\\github\\\\COVID19-visualization\\\\dataset\\\\\"  #path to dataset folder\n",
    "def download_files(url):\n",
    "    dlink = requests.get(urls[url])\n",
    "    fname = url + \".csv\"\n",
    "    data = open(os.path.join(save_link, fname), 'wb').write(dlink.content)\n",
    "\n",
    "# Running a for loop to download all files\n",
    "for url in urls:\n",
    "    download_files(url)\n",
    "\n",
    "# Coverting \"Testing\" file from xls to csv\n",
    "testing_xls = pd.read_excel('./dataset/testing.csv', 'Sheet1', dtype=str, index_col=None)\n",
    "testing_xls.to_csv('./dataset/testing.csv', encoding='utf-8', index=False)\n",
    "#data_xls.to_csv('csvfile.csv', encoding='utf-8', index=False)\n",
    "\n",
    "print('Download complete')"
   ]
  },
  {
   "cell_type": "code",
   "execution_count": 88,
   "metadata": {},
   "outputs": [
    {
     "data": {
      "text/plain": [
       "'C:\\\\Users\\\\usama\\\\OneDrive\\\\Desktop\\\\github\\\\COVID19-visualization'"
      ]
     },
     "execution_count": 88,
     "metadata": {},
     "output_type": "execute_result"
    }
   ],
   "source": [
    "pwd"
   ]
  },
  {
   "cell_type": "code",
   "execution_count": null,
   "metadata": {},
   "outputs": [],
   "source": []
  }
 ],
 "metadata": {
  "kernelspec": {
   "display_name": "Covid19",
   "language": "python",
   "name": "covid19"
  },
  "language_info": {
   "codemirror_mode": {
    "name": "ipython",
    "version": 3
   },
   "file_extension": ".py",
   "mimetype": "text/x-python",
   "name": "python",
   "nbconvert_exporter": "python",
   "pygments_lexer": "ipython3",
   "version": "3.7.6"
  }
 },
 "nbformat": 4,
 "nbformat_minor": 4
}
