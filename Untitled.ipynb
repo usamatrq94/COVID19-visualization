{
 "cells": [
  {
   "cell_type": "code",
   "execution_count": 18,
   "metadata": {},
   "outputs": [],
   "source": [
    "import pandas as pd\n",
    "import os"
   ]
  },
  {
   "cell_type": "code",
   "execution_count": 19,
   "metadata": {},
   "outputs": [],
   "source": [
    "base_path = \"C:\\\\Users\\\\usama\\\\OneDrive\\\\Desktop\\\\github\\\\COVID19-visualization\\\\dataset\\\\\""
   ]
  },
  {
   "cell_type": "code",
   "execution_count": 20,
   "metadata": {},
   "outputs": [
    {
     "data": {
      "text/plain": [
       "['confirmed.csv', 'death.csv', 'recovery.csv', 'testing.csv']"
      ]
     },
     "execution_count": 20,
     "metadata": {},
     "output_type": "execute_result"
    }
   ],
   "source": [
    "os.listdir(base_path)"
   ]
  },
  {
   "cell_type": "code",
   "execution_count": 21,
   "metadata": {},
   "outputs": [
    {
     "name": "stdout",
     "output_type": "stream",
     "text": [
      "confirmed.csv\n",
      "death.csv\n",
      "recovery.csv\n"
     ]
    }
   ],
   "source": [
    "files = ['confirmed.csv' , 'death.csv', 'recovery.csv']\n",
    "for file in files:\n",
    "    print(file)"
   ]
  },
  {
   "cell_type": "code",
   "execution_count": 72,
   "metadata": {},
   "outputs": [],
   "source": [
    "def states_merge(fname):\n",
    "    base_path = \"C:\\\\Users\\\\usama\\\\OneDrive\\\\Desktop\\\\github\\\\COVID19-visualization\\\\dataset\\\\\"\n",
    "    file_path = os.path.join(base_path, fname)\n",
    "    datafr = pd.read_csv(file_path)\n",
    "    # find unique values in Country/Region column\n",
    "    unique = datafr['Country/Region'].unique()\n",
    "    # Declare empty new_dict array\n",
    "    new_dict = []\n",
    "    # Sum the states total and add an country row\n",
    "    for country in unique:\n",
    "        c_data = datafr[datafr['Country/Region'] == country].sum(axis=0)\n",
    "        new_dict.append(c_data)\n",
    "        \n",
    "    dataset = pd.DataFrame(new_dict)\n",
    "    dataset = dataset.drop(['Province/State', 'Country/Region', 'Lat', 'Long'], axis = 1)\n",
    "    unique = pd.DataFrame(unique)\n",
    "    d = pd.concat([unique, dataset], axis = 1)\n",
    "    \n",
    "    # output path\n",
    "    output_path = \"C:\\\\Users\\\\usama\\\\OneDrive\\\\Desktop\\\\github\\\\COVID19-visualization\\\\outputs\\\\\"\n",
    "    save = os.path.join(output_path, fname)\n",
    "    d.to_csv(save, index = False)"
   ]
  },
  {
   "cell_type": "code",
   "execution_count": 73,
   "metadata": {},
   "outputs": [],
   "source": [
    "states_merge('confirmed.csv')"
   ]
  },
  {
   "cell_type": "code",
   "execution_count": null,
   "metadata": {},
   "outputs": [],
   "source": []
  }
 ],
 "metadata": {
  "kernelspec": {
   "display_name": "Covid19",
   "language": "python",
   "name": "covid19"
  },
  "language_info": {
   "codemirror_mode": {
    "name": "ipython",
    "version": 3
   },
   "file_extension": ".py",
   "mimetype": "text/x-python",
   "name": "python",
   "nbconvert_exporter": "python",
   "pygments_lexer": "ipython3",
   "version": "3.7.6"
  }
 },
 "nbformat": 4,
 "nbformat_minor": 4
}
